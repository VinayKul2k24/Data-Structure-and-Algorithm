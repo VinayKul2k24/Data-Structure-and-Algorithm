{
 "cells": [
  {
   "cell_type": "code",
   "execution_count": 2,
   "id": "fb4420a9-260f-4b52-9ab2-20b8cd2bd915",
   "metadata": {},
   "outputs": [],
   "source": [
    "#create a node\n",
    "#crate a node\n",
    "class Node:\n",
    "  def __init__(self,value):\n",
    "    self.value = value\n",
    "    self.next = None\n"
   ]
  },
  {
   "cell_type": "code",
   "execution_count": 4,
   "id": "667c5b42-2776-4630-9ca7-890196b3f704",
   "metadata": {},
   "outputs": [],
   "source": [
    "#create a linked list\n",
    "class linkedlist:\n",
    "  def __init__(self):\n",
    "    self.head = None\n",
    "  #add node\n",
    "  def add_node(self,value):\n",
    "    new_node = Node(value)\n",
    "\n",
    "    if self.head is None:\n",
    "      self.head = new_node\n",
    "    else:\n",
    "      current = self.head\n",
    "      while current.next is not None:\n",
    "        current = current.next\n",
    "      current.next = new_node\n",
    "\n",
    "    "
   ]
  },
  {
   "cell_type": "code",
   "execution_count": 5,
   "id": "f77b9717-ee3c-41f1-9624-b399c9859ea4",
   "metadata": {},
   "outputs": [],
   "source": [
    "### create a Linked list\n",
    "l1 = linkedlist()\n",
    "l1.add_node(value = 10)\n",
    "l1.add_node(value = 15)\n",
    "l1.add_node(value = 20)\n"
   ]
  },
  {
   "cell_type": "code",
   "execution_count": 6,
   "id": "0814a6c0-fac4-4e20-84f9-a213ef522958",
   "metadata": {},
   "outputs": [
    {
     "name": "stdout",
     "output_type": "stream",
     "text": [
      "15\n"
     ]
    }
   ],
   "source": [
    "l1.head.next\n",
    "print(l1.head.next.value)"
   ]
  },
  {
   "cell_type": "code",
   "execution_count": 7,
   "id": "342304ef-e5de-4ce5-b46d-7922a5394a7a",
   "metadata": {},
   "outputs": [
    {
     "name": "stdout",
     "output_type": "stream",
     "text": [
      "10\n",
      "15\n",
      "20\n"
     ]
    }
   ],
   "source": [
    "def print_linkedlist(head):\n",
    "  while head is not None:\n",
    "    print(head.value)\n",
    "    head = head.next\n",
    "print_linkedlist(l1.head)"
   ]
  },
  {
   "cell_type": "code",
   "execution_count": 8,
   "id": "eb7b397b-d28c-4aaf-b132-c54e98b9d47a",
   "metadata": {},
   "outputs": [
    {
     "name": "stdout",
     "output_type": "stream",
     "text": [
      "10\n",
      "15\n",
      "20\n"
     ]
    }
   ],
   "source": [
    "# for recurive\n",
    "def print_r(head):\n",
    "  if head is None:\n",
    "    return \n",
    "  print(head.value)\n",
    "  print_r(head.next)\n",
    "print_r(l1.head)\n"
   ]
  },
  {
   "cell_type": "code",
   "execution_count": 9,
   "id": "97c80c0c-92f2-48e4-87da-ae06cccc92b7",
   "metadata": {},
   "outputs": [],
   "source": [
    "# find the lenght\n",
    "l3 = linkedlist()\n",
    "for i in range(10):\n",
    "  l3.add_node(i*2)"
   ]
  },
  {
   "cell_type": "code",
   "execution_count": 10,
   "id": "3044444b-4b03-4500-ba33-a9fad91311e4",
   "metadata": {},
   "outputs": [],
   "source": [
    "def find_lenght(head):\n",
    "  \n",
    "  len = 0\n",
    "  while head is not None:\n",
    "    len+=1\n",
    "    head = head.next\n",
    "  \n",
    "  return len"
   ]
  },
  {
   "cell_type": "code",
   "execution_count": 11,
   "id": "c7e03875-b814-4cfe-b9a3-fb628cf1fabc",
   "metadata": {},
   "outputs": [
    {
     "data": {
      "text/plain": [
       "10"
      ]
     },
     "execution_count": 11,
     "metadata": {},
     "output_type": "execute_result"
    }
   ],
   "source": [
    "find_lenght(l3.head)"
   ]
  },
  {
   "cell_type": "code",
   "execution_count": 12,
   "id": "3c98a682-0e80-4b0d-99e2-b5d714b2ff92",
   "metadata": {},
   "outputs": [],
   "source": [
    "#recursively\n",
    "def find_len(head):\n",
    "  if head is None:\n",
    "    return 0\n",
    "  return 1 + find_len(head.next)"
   ]
  },
  {
   "cell_type": "code",
   "execution_count": 13,
   "id": "7a22fac6-a6f3-493e-bbc4-3519ed372cdc",
   "metadata": {},
   "outputs": [
    {
     "data": {
      "text/plain": [
       "10"
      ]
     },
     "execution_count": 13,
     "metadata": {},
     "output_type": "execute_result"
    }
   ],
   "source": [
    "find_len(l3.head)"
   ]
  },
  {
   "cell_type": "code",
   "execution_count": null,
   "id": "f36b6ee8-2db0-4ab7-af62-fa8838eda6b0",
   "metadata": {},
   "outputs": [],
   "source": []
  }
 ],
 "metadata": {
  "kernelspec": {
   "display_name": "Python 3 (ipykernel)",
   "language": "python",
   "name": "python3"
  },
  "language_info": {
   "codemirror_mode": {
    "name": "ipython",
    "version": 3
   },
   "file_extension": ".py",
   "mimetype": "text/x-python",
   "name": "python",
   "nbconvert_exporter": "python",
   "pygments_lexer": "ipython3",
   "version": "3.10.8"
  }
 },
 "nbformat": 4,
 "nbformat_minor": 5
}
